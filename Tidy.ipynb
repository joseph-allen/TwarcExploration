{
 "cells": [
  {
   "cell_type": "code",
   "execution_count": 1,
   "metadata": {},
   "outputs": [],
   "source": [
    "import pandas as pd"
   ]
  },
  {
   "cell_type": "code",
   "execution_count": 53,
   "metadata": {},
   "outputs": [],
   "source": [
    "import pandas as pd\n",
    "import glob\n",
    "\n",
    "path = r'/Users/joe/Code/TwitterTest' # use your path\n",
    "all_files = glob.glob(path + \"/*.csv\")\n",
    "\n",
    "li = []\n",
    "\n",
    "for filename in all_files:\n",
    "    df = pd.read_csv(filename, index_col=None, header=0)\n",
    "    li.append(df)\n",
    "\n",
    "df = pd.concat(li, axis=0, ignore_index=True)"
   ]
  },
  {
   "cell_type": "code",
   "execution_count": 54,
   "metadata": {},
   "outputs": [],
   "source": [
    "# remove tagged types\n",
    "df = df[df['type'].isnull()]\n",
    "\n",
    "# remove tweets with RT string\n",
    "df = df[~df['text'].str.contains('RT')]"
   ]
  },
  {
   "cell_type": "code",
   "execution_count": 55,
   "metadata": {},
   "outputs": [
    {
     "data": {
      "text/html": [
       "<div>\n",
       "<style scoped>\n",
       "    .dataframe tbody tr th:only-of-type {\n",
       "        vertical-align: middle;\n",
       "    }\n",
       "\n",
       "    .dataframe tbody tr th {\n",
       "        vertical-align: top;\n",
       "    }\n",
       "\n",
       "    .dataframe thead th {\n",
       "        text-align: right;\n",
       "    }\n",
       "</style>\n",
       "<table border=\"1\" class=\"dataframe\">\n",
       "  <thead>\n",
       "    <tr style=\"text-align: right;\">\n",
       "      <th></th>\n",
       "      <th>id</th>\n",
       "      <th>created_at</th>\n",
       "      <th>text</th>\n",
       "      <th>author.id</th>\n",
       "      <th>author.created_at</th>\n",
       "      <th>author.username</th>\n",
       "      <th>author.location</th>\n",
       "      <th>author.public_metrics.followers_count</th>\n",
       "      <th>geo.full_name</th>\n",
       "      <th>public_metrics.like_count</th>\n",
       "      <th>public_metrics.retweet_count</th>\n",
       "    </tr>\n",
       "  </thead>\n",
       "  <tbody>\n",
       "    <tr>\n",
       "      <th>2</th>\n",
       "      <td>1082788995535462400</td>\n",
       "      <td>2019-01-08T23:59:48.000Z</td>\n",
       "      <td>Blessing be upon @GreggsOfficial for their Veg...</td>\n",
       "      <td>18679901</td>\n",
       "      <td>2009-01-06T15:40:17.000Z</td>\n",
       "      <td>DavidGArnold</td>\n",
       "      <td>london</td>\n",
       "      <td>56989</td>\n",
       "      <td>NaN</td>\n",
       "      <td>26</td>\n",
       "      <td>1</td>\n",
       "    </tr>\n",
       "    <tr>\n",
       "      <th>3</th>\n",
       "      <td>1082788984542027776</td>\n",
       "      <td>2019-01-08T23:59:45.000Z</td>\n",
       "      <td>The Most Underrated Podcast w/ @DalPaolantonio...</td>\n",
       "      <td>197307558</td>\n",
       "      <td>2010-10-01T04:24:27.000Z</td>\n",
       "      <td>oMgitsTTF</td>\n",
       "      <td>A Mile Higher Than The Rest...</td>\n",
       "      <td>2661</td>\n",
       "      <td>NaN</td>\n",
       "      <td>18</td>\n",
       "      <td>4</td>\n",
       "    </tr>\n",
       "    <tr>\n",
       "      <th>7</th>\n",
       "      <td>1082788970411499520</td>\n",
       "      <td>2019-01-08T23:59:42.000Z</td>\n",
       "      <td>@VeganBlogger78 @Vegansorrel @VeganOlive1 @WTe...</td>\n",
       "      <td>64096842</td>\n",
       "      <td>2009-08-09T02:53:08.000Z</td>\n",
       "      <td>veggiesnottm</td>\n",
       "      <td>Nottingham, UK</td>\n",
       "      <td>4676</td>\n",
       "      <td>NaN</td>\n",
       "      <td>4</td>\n",
       "      <td>1</td>\n",
       "    </tr>\n",
       "    <tr>\n",
       "      <th>8</th>\n",
       "      <td>1082788955362377728</td>\n",
       "      <td>2019-01-08T23:59:38.000Z</td>\n",
       "      <td>making homemade pull-apart vegan cinnamon roll...</td>\n",
       "      <td>381268670</td>\n",
       "      <td>2011-09-28T01:25:31.000Z</td>\n",
       "      <td>glowyaquarius</td>\n",
       "      <td>Eden</td>\n",
       "      <td>13577</td>\n",
       "      <td>NaN</td>\n",
       "      <td>49</td>\n",
       "      <td>0</td>\n",
       "    </tr>\n",
       "    <tr>\n",
       "      <th>12</th>\n",
       "      <td>1082788946810150912</td>\n",
       "      <td>2019-01-08T23:59:36.000Z</td>\n",
       "      <td>@Maolfarmiona @Fluffy_Moos Love a vegan cow!</td>\n",
       "      <td>297887271</td>\n",
       "      <td>2011-05-13T09:01:47.000Z</td>\n",
       "      <td>RareBreedsScot</td>\n",
       "      <td>NE Scotland</td>\n",
       "      <td>824</td>\n",
       "      <td>NaN</td>\n",
       "      <td>0</td>\n",
       "      <td>0</td>\n",
       "    </tr>\n",
       "  </tbody>\n",
       "</table>\n",
       "</div>"
      ],
      "text/plain": [
       "                     id                created_at  \\\n",
       "2   1082788995535462400  2019-01-08T23:59:48.000Z   \n",
       "3   1082788984542027776  2019-01-08T23:59:45.000Z   \n",
       "7   1082788970411499520  2019-01-08T23:59:42.000Z   \n",
       "8   1082788955362377728  2019-01-08T23:59:38.000Z   \n",
       "12  1082788946810150912  2019-01-08T23:59:36.000Z   \n",
       "\n",
       "                                                 text  author.id  \\\n",
       "2   Blessing be upon @GreggsOfficial for their Veg...   18679901   \n",
       "3   The Most Underrated Podcast w/ @DalPaolantonio...  197307558   \n",
       "7   @VeganBlogger78 @Vegansorrel @VeganOlive1 @WTe...   64096842   \n",
       "8   making homemade pull-apart vegan cinnamon roll...  381268670   \n",
       "12       @Maolfarmiona @Fluffy_Moos Love a vegan cow!  297887271   \n",
       "\n",
       "           author.created_at author.username                 author.location  \\\n",
       "2   2009-01-06T15:40:17.000Z    DavidGArnold                          london   \n",
       "3   2010-10-01T04:24:27.000Z       oMgitsTTF  A Mile Higher Than The Rest...   \n",
       "7   2009-08-09T02:53:08.000Z    veggiesnottm                  Nottingham, UK   \n",
       "8   2011-09-28T01:25:31.000Z   glowyaquarius                            Eden   \n",
       "12  2011-05-13T09:01:47.000Z  RareBreedsScot                     NE Scotland   \n",
       "\n",
       "    author.public_metrics.followers_count geo.full_name  \\\n",
       "2                                   56989           NaN   \n",
       "3                                    2661           NaN   \n",
       "7                                    4676           NaN   \n",
       "8                                   13577           NaN   \n",
       "12                                    824           NaN   \n",
       "\n",
       "    public_metrics.like_count  public_metrics.retweet_count  \n",
       "2                          26                             1  \n",
       "3                          18                             4  \n",
       "7                           4                             1  \n",
       "8                          49                             0  \n",
       "12                          0                             0  "
      ]
     },
     "execution_count": 55,
     "metadata": {},
     "output_type": "execute_result"
    }
   ],
   "source": [
    "# tweet.user.created_at,tweet.geo,tweet.coordinates,tweet.retweet_count,tweet.favorite_count])\n",
    "    \n",
    "df = df[['id','created_at', 'text','author.id','author.created_at', 'author.username','author.location','author.public_metrics.followers_count','geo.full_name','public_metrics.like_count','public_metrics.retweet_count']]\n",
    "df.head()"
   ]
  },
  {
   "cell_type": "code",
   "execution_count": 85,
   "metadata": {},
   "outputs": [],
   "source": [
    "# sort by date\n",
    "df['created_at'] =pd.to_datetime(df.created_at)\n",
    "df.sort_values(by='created_at')\n",
    "df = df.reset_index()"
   ]
  },
  {
   "cell_type": "code",
   "execution_count": 75,
   "metadata": {},
   "outputs": [
    {
     "name": "stderr",
     "output_type": "stream",
     "text": [
      "[nltk_data] Downloading package vader_lexicon to\n",
      "[nltk_data]     /Users/joe/nltk_data...\n",
      "[nltk_data]   Package vader_lexicon is already up-to-date!\n"
     ]
    }
   ],
   "source": [
    "# sentiment analysis\n",
    "import nltk\n",
    "nltk.download([\n",
    "    \"vader_lexicon\",\n",
    "])\n",
    "from nltk.sentiment import SentimentIntensityAnalyzer\n",
    "sia = SentimentIntensityAnalyzer()\n",
    "\n",
    "def get_sentiment(string):\n",
    "    return sia.polarity_scores(string)['compound']"
   ]
  },
  {
   "cell_type": "code",
   "execution_count": 77,
   "metadata": {},
   "outputs": [
    {
     "data": {
      "text/html": [
       "<div>\n",
       "<style scoped>\n",
       "    .dataframe tbody tr th:only-of-type {\n",
       "        vertical-align: middle;\n",
       "    }\n",
       "\n",
       "    .dataframe tbody tr th {\n",
       "        vertical-align: top;\n",
       "    }\n",
       "\n",
       "    .dataframe thead th {\n",
       "        text-align: right;\n",
       "    }\n",
       "</style>\n",
       "<table border=\"1\" class=\"dataframe\">\n",
       "  <thead>\n",
       "    <tr style=\"text-align: right;\">\n",
       "      <th></th>\n",
       "      <th>id</th>\n",
       "      <th>created_at</th>\n",
       "      <th>text</th>\n",
       "      <th>author.id</th>\n",
       "      <th>author.created_at</th>\n",
       "      <th>author.username</th>\n",
       "      <th>author.location</th>\n",
       "      <th>author.public_metrics.followers_count</th>\n",
       "      <th>geo.full_name</th>\n",
       "      <th>public_metrics.like_count</th>\n",
       "      <th>public_metrics.retweet_count</th>\n",
       "      <th>sentiment</th>\n",
       "    </tr>\n",
       "  </thead>\n",
       "  <tbody>\n",
       "    <tr>\n",
       "      <th>2</th>\n",
       "      <td>1082788995535462400</td>\n",
       "      <td>2019-01-08 23:59:48+00:00</td>\n",
       "      <td>Blessing be upon @GreggsOfficial for their Veg...</td>\n",
       "      <td>18679901</td>\n",
       "      <td>2009-01-06T15:40:17.000Z</td>\n",
       "      <td>DavidGArnold</td>\n",
       "      <td>london</td>\n",
       "      <td>56989</td>\n",
       "      <td>NaN</td>\n",
       "      <td>26</td>\n",
       "      <td>1</td>\n",
       "      <td>0.7906</td>\n",
       "    </tr>\n",
       "    <tr>\n",
       "      <th>3</th>\n",
       "      <td>1082788984542027776</td>\n",
       "      <td>2019-01-08 23:59:45+00:00</td>\n",
       "      <td>The Most Underrated Podcast w/ @DalPaolantonio...</td>\n",
       "      <td>197307558</td>\n",
       "      <td>2010-10-01T04:24:27.000Z</td>\n",
       "      <td>oMgitsTTF</td>\n",
       "      <td>A Mile Higher Than The Rest...</td>\n",
       "      <td>2661</td>\n",
       "      <td>NaN</td>\n",
       "      <td>18</td>\n",
       "      <td>4</td>\n",
       "      <td>0.6351</td>\n",
       "    </tr>\n",
       "    <tr>\n",
       "      <th>7</th>\n",
       "      <td>1082788970411499520</td>\n",
       "      <td>2019-01-08 23:59:42+00:00</td>\n",
       "      <td>@VeganBlogger78 @Vegansorrel @VeganOlive1 @WTe...</td>\n",
       "      <td>64096842</td>\n",
       "      <td>2009-08-09T02:53:08.000Z</td>\n",
       "      <td>veggiesnottm</td>\n",
       "      <td>Nottingham, UK</td>\n",
       "      <td>4676</td>\n",
       "      <td>NaN</td>\n",
       "      <td>4</td>\n",
       "      <td>1</td>\n",
       "      <td>0.0000</td>\n",
       "    </tr>\n",
       "    <tr>\n",
       "      <th>8</th>\n",
       "      <td>1082788955362377728</td>\n",
       "      <td>2019-01-08 23:59:38+00:00</td>\n",
       "      <td>making homemade pull-apart vegan cinnamon roll...</td>\n",
       "      <td>381268670</td>\n",
       "      <td>2011-09-28T01:25:31.000Z</td>\n",
       "      <td>glowyaquarius</td>\n",
       "      <td>Eden</td>\n",
       "      <td>13577</td>\n",
       "      <td>NaN</td>\n",
       "      <td>49</td>\n",
       "      <td>0</td>\n",
       "      <td>0.0000</td>\n",
       "    </tr>\n",
       "    <tr>\n",
       "      <th>12</th>\n",
       "      <td>1082788946810150912</td>\n",
       "      <td>2019-01-08 23:59:36+00:00</td>\n",
       "      <td>@Maolfarmiona @Fluffy_Moos Love a vegan cow!</td>\n",
       "      <td>297887271</td>\n",
       "      <td>2011-05-13T09:01:47.000Z</td>\n",
       "      <td>RareBreedsScot</td>\n",
       "      <td>NE Scotland</td>\n",
       "      <td>824</td>\n",
       "      <td>NaN</td>\n",
       "      <td>0</td>\n",
       "      <td>0</td>\n",
       "      <td>0.6696</td>\n",
       "    </tr>\n",
       "  </tbody>\n",
       "</table>\n",
       "</div>"
      ],
      "text/plain": [
       "                     id                created_at  \\\n",
       "2   1082788995535462400 2019-01-08 23:59:48+00:00   \n",
       "3   1082788984542027776 2019-01-08 23:59:45+00:00   \n",
       "7   1082788970411499520 2019-01-08 23:59:42+00:00   \n",
       "8   1082788955362377728 2019-01-08 23:59:38+00:00   \n",
       "12  1082788946810150912 2019-01-08 23:59:36+00:00   \n",
       "\n",
       "                                                 text  author.id  \\\n",
       "2   Blessing be upon @GreggsOfficial for their Veg...   18679901   \n",
       "3   The Most Underrated Podcast w/ @DalPaolantonio...  197307558   \n",
       "7   @VeganBlogger78 @Vegansorrel @VeganOlive1 @WTe...   64096842   \n",
       "8   making homemade pull-apart vegan cinnamon roll...  381268670   \n",
       "12       @Maolfarmiona @Fluffy_Moos Love a vegan cow!  297887271   \n",
       "\n",
       "           author.created_at author.username                 author.location  \\\n",
       "2   2009-01-06T15:40:17.000Z    DavidGArnold                          london   \n",
       "3   2010-10-01T04:24:27.000Z       oMgitsTTF  A Mile Higher Than The Rest...   \n",
       "7   2009-08-09T02:53:08.000Z    veggiesnottm                  Nottingham, UK   \n",
       "8   2011-09-28T01:25:31.000Z   glowyaquarius                            Eden   \n",
       "12  2011-05-13T09:01:47.000Z  RareBreedsScot                     NE Scotland   \n",
       "\n",
       "    author.public_metrics.followers_count geo.full_name  \\\n",
       "2                                   56989           NaN   \n",
       "3                                    2661           NaN   \n",
       "7                                    4676           NaN   \n",
       "8                                   13577           NaN   \n",
       "12                                    824           NaN   \n",
       "\n",
       "    public_metrics.like_count  public_metrics.retweet_count  sentiment  \n",
       "2                          26                             1     0.7906  \n",
       "3                          18                             4     0.6351  \n",
       "7                           4                             1     0.0000  \n",
       "8                          49                             0     0.0000  \n",
       "12                          0                             0     0.6696  "
      ]
     },
     "execution_count": 77,
     "metadata": {},
     "output_type": "execute_result"
    }
   ],
   "source": [
    "df['sentiment'] = df['text'].apply(get_sentiment)\n",
    "df.head()"
   ]
  },
  {
   "cell_type": "code",
   "execution_count": 81,
   "metadata": {},
   "outputs": [
    {
     "data": {
      "text/plain": [
       "<AxesSubplot:ylabel='Frequency'>"
      ]
     },
     "execution_count": 81,
     "metadata": {},
     "output_type": "execute_result"
    },
    {
     "data": {
      "image/png": "[encoded data removed]",
      "text/plain": [
       "<Figure size 432x288 with 1 Axes>"
      ]
     },
     "metadata": {
      "needs_background": "light"
     },
     "output_type": "display_data"
    }
   ],
   "source": [
    "df.sentiment.plot(kind='hist',bins=8)"
   ]
  },
  {
   "cell_type": "code",
   "execution_count": 87,
   "metadata": {},
   "outputs": [
    {
     "data": {
      "text/plain": [
       "<AxesSubplot:>"
      ]
     },
     "execution_count": 87,
     "metadata": {},
     "output_type": "execute_result"
    },
    {
     "data": {
      "image/png": "[encoded data removed]",
      "text/plain": [
       "<Figure size 432x288 with 1 Axes>"
      ]
     },
     "metadata": {
      "needs_background": "light"
     },
     "output_type": "display_data"
    }
   ],
   "source": [
    "df['sentiment'].rolling(100).mean().plot()"
   ]
  },
  {
   "cell_type": "code",
   "execution_count": 88,
   "metadata": {},
   "outputs": [],
   "source": [
    "# output data\n",
    "df.to_csv('output.csv', index=False)"
   ]
  }
 ],
 "metadata": {
  "kernelspec": {
   "display_name": "Python 3",
   "language": "python",
   "name": "python3"
  },
  "language_info": {
   "codemirror_mode": {
    "name": "ipython",
    "version": 3
   },
   "file_extension": ".py",
   "mimetype": "text/x-python",
   "name": "python",
   "nbconvert_exporter": "python",
   "pygments_lexer": "ipython3",
   "version": "3.8.5"
  }
 },
 "nbformat": 4,
 "nbformat_minor": 4
}
