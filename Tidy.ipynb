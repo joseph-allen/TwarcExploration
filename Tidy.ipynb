{
 "cells": [
  {
   "cell_type": "code",
   "execution_count": 2,
   "metadata": {},
   "outputs": [],
   "source": [
    "import pandas as pd"
   ]
  },
  {
   "cell_type": "code",
   "execution_count": 4,
   "metadata": {},
   "outputs": [
    {
     "name": "stderr",
     "output_type": "stream",
     "text": [
      "/Users/joe/opt/anaconda3/lib/python3.8/site-packages/IPython/core/interactiveshell.py:3418: DtypeWarning: Columns (6,8,9,10,16,33,38,58,75,86,87,88) have mixed types.Specify dtype option on import or set low_memory=False.\n",
      "  exec(code_obj, self.user_global_ns, self.user_ns)\n"
     ]
    },
    {
     "data": {
      "text/html": [
       "<div>\n",
       "<style scoped>\n",
       "    .dataframe tbody tr th:only-of-type {\n",
       "        vertical-align: middle;\n",
       "    }\n",
       "\n",
       "    .dataframe tbody tr th {\n",
       "        vertical-align: top;\n",
       "    }\n",
       "\n",
       "    .dataframe thead th {\n",
       "        text-align: right;\n",
       "    }\n",
       "</style>\n",
       "<table border=\"1\" class=\"dataframe\">\n",
       "  <thead>\n",
       "    <tr style=\"text-align: right;\">\n",
       "      <th></th>\n",
       "      <th>id</th>\n",
       "      <th>created_at</th>\n",
       "      <th>text</th>\n",
       "      <th>attachments.media</th>\n",
       "      <th>attachments.media_keys</th>\n",
       "      <th>attachments.poll.duration_minutes</th>\n",
       "      <th>attachments.poll.end_datetime</th>\n",
       "      <th>attachments.poll.id</th>\n",
       "      <th>attachments.poll.options</th>\n",
       "      <th>attachments.poll.voting_status</th>\n",
       "      <th>...</th>\n",
       "      <th>reply_settings</th>\n",
       "      <th>source</th>\n",
       "      <th>withheld.scope</th>\n",
       "      <th>withheld.copyright</th>\n",
       "      <th>withheld.country_codes</th>\n",
       "      <th>type</th>\n",
       "      <th>__twarc.retrieved_at</th>\n",
       "      <th>__twarc.url</th>\n",
       "      <th>__twarc.version</th>\n",
       "      <th>Unnamed: 93</th>\n",
       "    </tr>\n",
       "  </thead>\n",
       "  <tbody>\n",
       "    <tr>\n",
       "      <th>0</th>\n",
       "      <td>1090312029834014722</td>\n",
       "      <td>2019-01-29T18:13:39.000Z</td>\n",
       "      <td>RT! #CONTEST #Win a Gorgeous Quality Vegan Lea...</td>\n",
       "      <td>NaN</td>\n",
       "      <td>NaN</td>\n",
       "      <td>NaN</td>\n",
       "      <td>NaN</td>\n",
       "      <td>NaN</td>\n",
       "      <td>NaN</td>\n",
       "      <td>NaN</td>\n",
       "      <td>...</td>\n",
       "      <td>everyone</td>\n",
       "      <td>Twitter for iPhone</td>\n",
       "      <td>NaN</td>\n",
       "      <td>NaN</td>\n",
       "      <td>NaN</td>\n",
       "      <td>retweeted</td>\n",
       "      <td>2021-08-24T20:12:10+00:00</td>\n",
       "      <td>https://api.twitter.com/2/tweets/search/all?ex...</td>\n",
       "      <td>2.4.1</td>\n",
       "      <td>NaN</td>\n",
       "    </tr>\n",
       "    <tr>\n",
       "      <th>1</th>\n",
       "      <td>1090399186992779264</td>\n",
       "      <td>2019-01-29T23:59:59.000Z</td>\n",
       "      <td>RT @candi260: RT! #CONTEST #Win a Gorgeous Qua...</td>\n",
       "      <td>NaN</td>\n",
       "      <td>NaN</td>\n",
       "      <td>NaN</td>\n",
       "      <td>NaN</td>\n",
       "      <td>NaN</td>\n",
       "      <td>NaN</td>\n",
       "      <td>NaN</td>\n",
       "      <td>...</td>\n",
       "      <td>everyone</td>\n",
       "      <td>Twitter for iPhone</td>\n",
       "      <td>NaN</td>\n",
       "      <td>NaN</td>\n",
       "      <td>NaN</td>\n",
       "      <td>NaN</td>\n",
       "      <td>2021-08-24T20:12:10+00:00</td>\n",
       "      <td>https://api.twitter.com/2/tweets/search/all?ex...</td>\n",
       "      <td>2.4.1</td>\n",
       "      <td>NaN</td>\n",
       "    </tr>\n",
       "    <tr>\n",
       "      <th>2</th>\n",
       "      <td>1090172698808995842</td>\n",
       "      <td>2019-01-29T09:00:00.000Z</td>\n",
       "      <td>Meet The Muslims Who Want to Stop The Slaughte...</td>\n",
       "      <td>NaN</td>\n",
       "      <td>NaN</td>\n",
       "      <td>NaN</td>\n",
       "      <td>NaN</td>\n",
       "      <td>NaN</td>\n",
       "      <td>NaN</td>\n",
       "      <td>NaN</td>\n",
       "      <td>...</td>\n",
       "      <td>everyone</td>\n",
       "      <td>TweetDeck</td>\n",
       "      <td>NaN</td>\n",
       "      <td>NaN</td>\n",
       "      <td>NaN</td>\n",
       "      <td>retweeted</td>\n",
       "      <td>2021-08-24T20:12:10+00:00</td>\n",
       "      <td>https://api.twitter.com/2/tweets/search/all?ex...</td>\n",
       "      <td>2.4.1</td>\n",
       "      <td>NaN</td>\n",
       "    </tr>\n",
       "    <tr>\n",
       "      <th>3</th>\n",
       "      <td>1090399163043348480</td>\n",
       "      <td>2019-01-29T23:59:53.000Z</td>\n",
       "      <td>RT @AlBawabaEnglish: Meet The Muslims Who Want...</td>\n",
       "      <td>NaN</td>\n",
       "      <td>NaN</td>\n",
       "      <td>NaN</td>\n",
       "      <td>NaN</td>\n",
       "      <td>NaN</td>\n",
       "      <td>NaN</td>\n",
       "      <td>NaN</td>\n",
       "      <td>...</td>\n",
       "      <td>everyone</td>\n",
       "      <td>Twitter for iPad</td>\n",
       "      <td>NaN</td>\n",
       "      <td>NaN</td>\n",
       "      <td>NaN</td>\n",
       "      <td>NaN</td>\n",
       "      <td>2021-08-24T20:12:10+00:00</td>\n",
       "      <td>https://api.twitter.com/2/tweets/search/all?ex...</td>\n",
       "      <td>2.4.1</td>\n",
       "      <td>NaN</td>\n",
       "    </tr>\n",
       "    <tr>\n",
       "      <th>4</th>\n",
       "      <td>1090399145951723521</td>\n",
       "      <td>2019-01-29T23:59:49.000Z</td>\n",
       "      <td>I should be asleep but about two hours ago I d...</td>\n",
       "      <td>[{\"preview_image_url\": \"https://pbs.twimg.com/...</td>\n",
       "      <td>[\"16_1090399133037404166\"]</td>\n",
       "      <td>NaN</td>\n",
       "      <td>NaN</td>\n",
       "      <td>NaN</td>\n",
       "      <td>NaN</td>\n",
       "      <td>NaN</td>\n",
       "      <td>...</td>\n",
       "      <td>everyone</td>\n",
       "      <td>Twitter for Android</td>\n",
       "      <td>NaN</td>\n",
       "      <td>NaN</td>\n",
       "      <td>NaN</td>\n",
       "      <td>NaN</td>\n",
       "      <td>2021-08-24T20:12:10+00:00</td>\n",
       "      <td>https://api.twitter.com/2/tweets/search/all?ex...</td>\n",
       "      <td>2.4.1</td>\n",
       "      <td>NaN</td>\n",
       "    </tr>\n",
       "  </tbody>\n",
       "</table>\n",
       "<p>5 rows × 94 columns</p>\n",
       "</div>"
      ],
      "text/plain": [
       "                    id                created_at  \\\n",
       "0  1090312029834014722  2019-01-29T18:13:39.000Z   \n",
       "1  1090399186992779264  2019-01-29T23:59:59.000Z   \n",
       "2  1090172698808995842  2019-01-29T09:00:00.000Z   \n",
       "3  1090399163043348480  2019-01-29T23:59:53.000Z   \n",
       "4  1090399145951723521  2019-01-29T23:59:49.000Z   \n",
       "\n",
       "                                                text  \\\n",
       "0  RT! #CONTEST #Win a Gorgeous Quality Vegan Lea...   \n",
       "1  RT @candi260: RT! #CONTEST #Win a Gorgeous Qua...   \n",
       "2  Meet The Muslims Who Want to Stop The Slaughte...   \n",
       "3  RT @AlBawabaEnglish: Meet The Muslims Who Want...   \n",
       "4  I should be asleep but about two hours ago I d...   \n",
       "\n",
       "                                   attachments.media  \\\n",
       "0                                                NaN   \n",
       "1                                                NaN   \n",
       "2                                                NaN   \n",
       "3                                                NaN   \n",
       "4  [{\"preview_image_url\": \"https://pbs.twimg.com/...   \n",
       "\n",
       "       attachments.media_keys  attachments.poll.duration_minutes  \\\n",
       "0                         NaN                                NaN   \n",
       "1                         NaN                                NaN   \n",
       "2                         NaN                                NaN   \n",
       "3                         NaN                                NaN   \n",
       "4  [\"16_1090399133037404166\"]                                NaN   \n",
       "\n",
       "  attachments.poll.end_datetime  attachments.poll.id attachments.poll.options  \\\n",
       "0                           NaN                  NaN                      NaN   \n",
       "1                           NaN                  NaN                      NaN   \n",
       "2                           NaN                  NaN                      NaN   \n",
       "3                           NaN                  NaN                      NaN   \n",
       "4                           NaN                  NaN                      NaN   \n",
       "\n",
       "  attachments.poll.voting_status  ... reply_settings               source  \\\n",
       "0                            NaN  ...       everyone   Twitter for iPhone   \n",
       "1                            NaN  ...       everyone   Twitter for iPhone   \n",
       "2                            NaN  ...       everyone            TweetDeck   \n",
       "3                            NaN  ...       everyone     Twitter for iPad   \n",
       "4                            NaN  ...       everyone  Twitter for Android   \n",
       "\n",
       "  withheld.scope withheld.copyright withheld.country_codes       type  \\\n",
       "0            NaN                NaN                    NaN  retweeted   \n",
       "1            NaN                NaN                    NaN        NaN   \n",
       "2            NaN                NaN                    NaN  retweeted   \n",
       "3            NaN                NaN                    NaN        NaN   \n",
       "4            NaN                NaN                    NaN        NaN   \n",
       "\n",
       "        __twarc.retrieved_at  \\\n",
       "0  2021-08-24T20:12:10+00:00   \n",
       "1  2021-08-24T20:12:10+00:00   \n",
       "2  2021-08-24T20:12:10+00:00   \n",
       "3  2021-08-24T20:12:10+00:00   \n",
       "4  2021-08-24T20:12:10+00:00   \n",
       "\n",
       "                                         __twarc.url __twarc.version  \\\n",
       "0  https://api.twitter.com/2/tweets/search/all?ex...           2.4.1   \n",
       "1  https://api.twitter.com/2/tweets/search/all?ex...           2.4.1   \n",
       "2  https://api.twitter.com/2/tweets/search/all?ex...           2.4.1   \n",
       "3  https://api.twitter.com/2/tweets/search/all?ex...           2.4.1   \n",
       "4  https://api.twitter.com/2/tweets/search/all?ex...           2.4.1   \n",
       "\n",
       "  Unnamed: 93  \n",
       "0         NaN  \n",
       "1         NaN  \n",
       "2         NaN  \n",
       "3         NaN  \n",
       "4         NaN  \n",
       "\n",
       "[5 rows x 94 columns]"
      ]
     },
     "execution_count": 4,
     "metadata": {},
     "output_type": "execute_result"
    }
   ],
   "source": [
    "df = pd.read_csv('PrestonJan2019.csv')\n",
    "df.head()"
   ]
  },
  {
   "cell_type": "code",
   "execution_count": 5,
   "metadata": {},
   "outputs": [
    {
     "name": "stdout",
     "output_type": "stream",
     "text": [
      "<class 'pandas.core.frame.DataFrame'>\n",
      "RangeIndex: 1277740 entries, 0 to 1277739\n",
      "Data columns (total 94 columns):\n",
      " #   Column                                           Non-Null Count    Dtype  \n",
      "---  ------                                           --------------    -----  \n",
      " 0   id                                               1277740 non-null  int64  \n",
      " 1   created_at                                       1277740 non-null  object \n",
      " 2   text                                             1277740 non-null  object \n",
      " 3   attachments.media                                201228 non-null   object \n",
      " 4   attachments.media_keys                           201228 non-null   object \n",
      " 5   attachments.poll.duration_minutes                1641 non-null     float64\n",
      " 6   attachments.poll.end_datetime                    1641 non-null     object \n",
      " 7   attachments.poll.id                              1641 non-null     float64\n",
      " 8   attachments.poll.options                         1641 non-null     object \n",
      " 9   attachments.poll.voting_status                   1641 non-null     object \n",
      " 10  attachments.poll_ids                             2057 non-null     object \n",
      " 11  author.id                                        1277740 non-null  int64  \n",
      " 12  author.created_at                                1277740 non-null  object \n",
      " 13  author.username                                  1277740 non-null  object \n",
      " 14  author.name                                      1277604 non-null  object \n",
      " 15  author.description                               1132875 non-null  object \n",
      " 16  author.entities.description.cashtags             1014 non-null     object \n",
      " 17  author.entities.description.hashtags             219771 non-null   object \n",
      " 18  author.entities.description.mentions             136261 non-null   object \n",
      " 19  author.entities.description.urls                 83986 non-null    object \n",
      " 20  author.entities.url.urls                         554931 non-null   object \n",
      " 21  author.location                                  981705 non-null   object \n",
      " 22  author.pinned_tweet_id                           605997 non-null   float64\n",
      " 23  author.profile_image_url                         1277628 non-null  object \n",
      " 24  author.protected                                 1277740 non-null  bool   \n",
      " 25  author.public_metrics.followers_count            1277740 non-null  int64  \n",
      " 26  author.public_metrics.following_count            1277740 non-null  int64  \n",
      " 27  author.public_metrics.listed_count               1277740 non-null  int64  \n",
      " 28  author.public_metrics.tweet_count                1277740 non-null  int64  \n",
      " 29  author.url                                       554931 non-null   object \n",
      " 30  author.verified                                  1277740 non-null  bool   \n",
      " 31  author.withheld.scope                            0 non-null        float64\n",
      " 32  author.withheld.copyright                        0 non-null        float64\n",
      " 33  author.withheld.country_codes                    12 non-null       object \n",
      " 34  author_id                                        1277740 non-null  int64  \n",
      " 35  context_annotations                              720795 non-null   object \n",
      " 36  conversation_id                                  1277740 non-null  int64  \n",
      " 37  entities.annotations                             305385 non-null   object \n",
      " 38  entities.cashtags                                68 non-null       object \n",
      " 39  entities.hashtags                                370482 non-null   object \n",
      " 40  entities.mentions                                835171 non-null   object \n",
      " 41  entities.urls                                    510910 non-null   object \n",
      " 42  geo.coordinates.coordinates                      8867 non-null     object \n",
      " 43  geo.coordinates.type                             8867 non-null     object \n",
      " 44  geo.country                                      27234 non-null    object \n",
      " 45  geo.country_code                                 27227 non-null    object \n",
      " 46  geo.full_name                                    27243 non-null    object \n",
      " 47  geo.geo.bbox                                     27243 non-null    object \n",
      " 48  geo.geo.type                                     27243 non-null    object \n",
      " 49  geo.id                                           27243 non-null    object \n",
      " 50  geo.name                                         27243 non-null    object \n",
      " 51  geo.place_id                                     35882 non-null    object \n",
      " 52  geo.place_type                                   27243 non-null    object \n",
      " 53  in_reply_to_user.id                              199607 non-null   float64\n",
      " 54  in_reply_to_user.created_at                      199607 non-null   object \n",
      " 55  in_reply_to_user.username                        199607 non-null   object \n",
      " 56  in_reply_to_user.name                            199590 non-null   object \n",
      " 57  in_reply_to_user.description                     187588 non-null   object \n",
      " 58  in_reply_to_user.entities.description.cashtags   247 non-null      object \n",
      " 59  in_reply_to_user.entities.description.hashtags   31484 non-null    object \n",
      " 60  in_reply_to_user.entities.description.mentions   37192 non-null    object \n",
      " 61  in_reply_to_user.entities.description.urls       20839 non-null    object \n",
      " 62  in_reply_to_user.entities.url.urls               112907 non-null   object \n",
      " 63  in_reply_to_user.location                        159825 non-null   object \n",
      " 64  in_reply_to_user.pinned_tweet_id                 123638 non-null   float64\n",
      " 65  in_reply_to_user.profile_image_url               199596 non-null   object \n",
      " 66  in_reply_to_user.protected                       199607 non-null   object \n",
      " 67  in_reply_to_user.public_metrics.followers_count  199607 non-null   float64\n",
      " 68  in_reply_to_user.public_metrics.following_count  199607 non-null   float64\n",
      " 69  in_reply_to_user.public_metrics.listed_count     199607 non-null   float64\n",
      " 70  in_reply_to_user.public_metrics.tweet_count      199607 non-null   float64\n",
      " 71  in_reply_to_user.url                             112907 non-null   object \n",
      " 72  in_reply_to_user.verified                        199607 non-null   object \n",
      " 73  in_reply_to_user.withheld.scope                  0 non-null        float64\n",
      " 74  in_reply_to_user.withheld.copyright              0 non-null        float64\n",
      " 75  in_reply_to_user.withheld.country_codes          8 non-null        object \n",
      " 76  in_reply_to_user_id                              230614 non-null   float64\n",
      " 77  lang                                             1277740 non-null  object \n",
      " 78  possibly_sensitive                               1277740 non-null  bool   \n",
      " 79  public_metrics.like_count                        1277740 non-null  int64  \n",
      " 80  public_metrics.quote_count                       1277740 non-null  int64  \n",
      " 81  public_metrics.reply_count                       1277740 non-null  int64  \n",
      " 82  public_metrics.retweet_count                     1277740 non-null  int64  \n",
      " 83  referenced_tweets                                848660 non-null   object \n",
      " 84  reply_settings                                   1277740 non-null  object \n",
      " 85  source                                           1277740 non-null  object \n",
      " 86  withheld.scope                                   5 non-null        object \n",
      " 87  withheld.copyright                               20 non-null       object \n",
      " 88  withheld.country_codes                           20 non-null       object \n",
      " 89  type                                             204437 non-null   object \n",
      " 90  __twarc.retrieved_at                             1277740 non-null  object \n",
      " 91  __twarc.url                                      1277740 non-null  object \n",
      " 92  __twarc.version                                  1277740 non-null  object \n",
      " 93  Unnamed: 93                                      0 non-null        float64\n",
      "dtypes: bool(3), float64(15), int64(12), object(64)\n",
      "memory usage: 890.8+ MB\n"
     ]
    }
   ],
   "source": [
    "df.info()"
   ]
  },
  {
   "cell_type": "code",
   "execution_count": 53,
   "metadata": {},
   "outputs": [],
   "source": [
    "import pandas as pd\n",
    "import glob\n",
    "\n",
    "path = r'/Users/joe/Code/TwitterTest' # use your path\n",
    "all_files = glob.glob(path + \"/*.csv\")\n",
    "\n",
    "li = []\n",
    "\n",
    "for filename in all_files:\n",
    "    df = pd.read_csv(filename, index_col=None, header=0)\n",
    "    li.append(df)\n",
    "\n",
    "df = pd.concat(li, axis=0, ignore_index=True)"
   ]
  },
  {
   "cell_type": "code",
   "execution_count": 6,
   "metadata": {},
   "outputs": [],
   "source": [
    "# remove tagged types\n",
    "df = df[df['type'].isnull()]\n",
    "\n",
    "# remove tweets with RT string\n",
    "df = df[~df['text'].str.contains('RT')]"
   ]
  },
  {
   "cell_type": "code",
   "execution_count": 7,
   "metadata": {},
   "outputs": [
    {
     "data": {
      "text/html": [
       "<div>\n",
       "<style scoped>\n",
       "    .dataframe tbody tr th:only-of-type {\n",
       "        vertical-align: middle;\n",
       "    }\n",
       "\n",
       "    .dataframe tbody tr th {\n",
       "        vertical-align: top;\n",
       "    }\n",
       "\n",
       "    .dataframe thead th {\n",
       "        text-align: right;\n",
       "    }\n",
       "</style>\n",
       "<table border=\"1\" class=\"dataframe\">\n",
       "  <thead>\n",
       "    <tr style=\"text-align: right;\">\n",
       "      <th></th>\n",
       "      <th>id</th>\n",
       "      <th>created_at</th>\n",
       "      <th>text</th>\n",
       "      <th>author.id</th>\n",
       "      <th>author.created_at</th>\n",
       "      <th>author.username</th>\n",
       "      <th>author.location</th>\n",
       "      <th>author.public_metrics.followers_count</th>\n",
       "      <th>geo.full_name</th>\n",
       "      <th>public_metrics.like_count</th>\n",
       "      <th>public_metrics.retweet_count</th>\n",
       "    </tr>\n",
       "  </thead>\n",
       "  <tbody>\n",
       "    <tr>\n",
       "      <th>4</th>\n",
       "      <td>1090399145951723521</td>\n",
       "      <td>2019-01-29T23:59:49.000Z</td>\n",
       "      <td>I should be asleep but about two hours ago I d...</td>\n",
       "      <td>750768965778112514</td>\n",
       "      <td>2016-07-06T19:10:44.000Z</td>\n",
       "      <td>crittermischief</td>\n",
       "      <td>Amaurot</td>\n",
       "      <td>133</td>\n",
       "      <td>NaN</td>\n",
       "      <td>0</td>\n",
       "      <td>0</td>\n",
       "    </tr>\n",
       "    <tr>\n",
       "      <th>7</th>\n",
       "      <td>1090399137583906816</td>\n",
       "      <td>2019-01-29T23:59:47.000Z</td>\n",
       "      <td>My specialty is vegan tacos xD lol</td>\n",
       "      <td>887264682179821569</td>\n",
       "      <td>2017-07-18T10:55:59.000Z</td>\n",
       "      <td>ohhitskittyface</td>\n",
       "      <td>NaN</td>\n",
       "      <td>139</td>\n",
       "      <td>NaN</td>\n",
       "      <td>0</td>\n",
       "      <td>0</td>\n",
       "    </tr>\n",
       "    <tr>\n",
       "      <th>8</th>\n",
       "      <td>1090399127949721601</td>\n",
       "      <td>2019-01-29T23:59:45.000Z</td>\n",
       "      <td>@BriMalandro @emoblackthot “Plant based pussy ...</td>\n",
       "      <td>894316419785121792</td>\n",
       "      <td>2017-08-06T21:57:04.000Z</td>\n",
       "      <td>0hdatme</td>\n",
       "      <td>NaN</td>\n",
       "      <td>164</td>\n",
       "      <td>NaN</td>\n",
       "      <td>0</td>\n",
       "      <td>0</td>\n",
       "    </tr>\n",
       "    <tr>\n",
       "      <th>14</th>\n",
       "      <td>1090399054570442754</td>\n",
       "      <td>2019-01-29T23:59:27.000Z</td>\n",
       "      <td>\"Vegan Make-Ahead Chia Oats\" #food #eat #healt...</td>\n",
       "      <td>1586307386</td>\n",
       "      <td>2013-07-11T16:52:01.000Z</td>\n",
       "      <td>FoodieNewsie</td>\n",
       "      <td>NaN</td>\n",
       "      <td>1339</td>\n",
       "      <td>NaN</td>\n",
       "      <td>0</td>\n",
       "      <td>0</td>\n",
       "    </tr>\n",
       "    <tr>\n",
       "      <th>19</th>\n",
       "      <td>1090399000031883264</td>\n",
       "      <td>2019-01-29T23:59:14.000Z</td>\n",
       "      <td>#theveganfoodie 🏋🏽‍♀️🏋🏽‍♀️ 15 x 4 @ The Vegan ...</td>\n",
       "      <td>31351113</td>\n",
       "      <td>2009-04-15T05:41:56.000Z</td>\n",
       "      <td>TheVeganFoode</td>\n",
       "      <td>United States</td>\n",
       "      <td>2214</td>\n",
       "      <td>New Tecumseth, Ontario</td>\n",
       "      <td>0</td>\n",
       "      <td>0</td>\n",
       "    </tr>\n",
       "  </tbody>\n",
       "</table>\n",
       "</div>"
      ],
      "text/plain": [
       "                     id                created_at  \\\n",
       "4   1090399145951723521  2019-01-29T23:59:49.000Z   \n",
       "7   1090399137583906816  2019-01-29T23:59:47.000Z   \n",
       "8   1090399127949721601  2019-01-29T23:59:45.000Z   \n",
       "14  1090399054570442754  2019-01-29T23:59:27.000Z   \n",
       "19  1090399000031883264  2019-01-29T23:59:14.000Z   \n",
       "\n",
       "                                                 text           author.id  \\\n",
       "4   I should be asleep but about two hours ago I d...  750768965778112514   \n",
       "7                  My specialty is vegan tacos xD lol  887264682179821569   \n",
       "8   @BriMalandro @emoblackthot “Plant based pussy ...  894316419785121792   \n",
       "14  \"Vegan Make-Ahead Chia Oats\" #food #eat #healt...          1586307386   \n",
       "19  #theveganfoodie 🏋🏽‍♀️🏋🏽‍♀️ 15 x 4 @ The Vegan ...            31351113   \n",
       "\n",
       "           author.created_at  author.username author.location  \\\n",
       "4   2016-07-06T19:10:44.000Z  crittermischief         Amaurot   \n",
       "7   2017-07-18T10:55:59.000Z  ohhitskittyface             NaN   \n",
       "8   2017-08-06T21:57:04.000Z          0hdatme             NaN   \n",
       "14  2013-07-11T16:52:01.000Z     FoodieNewsie             NaN   \n",
       "19  2009-04-15T05:41:56.000Z    TheVeganFoode   United States   \n",
       "\n",
       "    author.public_metrics.followers_count           geo.full_name  \\\n",
       "4                                     133                     NaN   \n",
       "7                                     139                     NaN   \n",
       "8                                     164                     NaN   \n",
       "14                                   1339                     NaN   \n",
       "19                                   2214  New Tecumseth, Ontario   \n",
       "\n",
       "    public_metrics.like_count  public_metrics.retweet_count  \n",
       "4                           0                             0  \n",
       "7                           0                             0  \n",
       "8                           0                             0  \n",
       "14                          0                             0  \n",
       "19                          0                             0  "
      ]
     },
     "execution_count": 7,
     "metadata": {},
     "output_type": "execute_result"
    }
   ],
   "source": [
    "# tweet.user.created_at,tweet.geo,tweet.coordinates,tweet.retweet_count,tweet.favorite_count])\n",
    "    \n",
    "df = df[['id','created_at', 'text','author.id','author.created_at', 'author.username','author.location','author.public_metrics.followers_count','geo.full_name','public_metrics.like_count','public_metrics.retweet_count']]\n",
    "df.head()"
   ]
  },
  {
   "cell_type": "code",
   "execution_count": 8,
   "metadata": {},
   "outputs": [],
   "source": [
    "# sort by date\n",
    "df['created_at'] =pd.to_datetime(df.created_at)\n",
    "df.sort_values(by='created_at')\n",
    "df = df.reset_index()"
   ]
  },
  {
   "cell_type": "code",
   "execution_count": 9,
   "metadata": {},
   "outputs": [
    {
     "name": "stderr",
     "output_type": "stream",
     "text": [
      "[nltk_data] Downloading package vader_lexicon to\n",
      "[nltk_data]     /Users/joe/nltk_data...\n",
      "[nltk_data]   Package vader_lexicon is already up-to-date!\n"
     ]
    }
   ],
   "source": [
    "# sentiment analysis\n",
    "import nltk\n",
    "nltk.download([\n",
    "    \"vader_lexicon\",\n",
    "])\n",
    "from nltk.sentiment import SentimentIntensityAnalyzer\n",
    "sia = SentimentIntensityAnalyzer()\n",
    "\n",
    "def get_sentiment(string):\n",
    "    return sia.polarity_scores(string)['compound']"
   ]
  },
  {
   "cell_type": "code",
   "execution_count": 11,
   "metadata": {},
   "outputs": [
    {
     "data": {
      "text/plain": [
       "0.3686102023885924"
      ]
     },
     "execution_count": 11,
     "metadata": {},
     "output_type": "execute_result"
    }
   ],
   "source": [
    "470988 / 1277740"
   ]
  },
  {
   "cell_type": "code",
   "execution_count": 10,
   "metadata": {},
   "outputs": [
    {
     "name": "stdout",
     "output_type": "stream",
     "text": [
      "<class 'pandas.core.frame.DataFrame'>\n",
      "RangeIndex: 470988 entries, 0 to 470987\n",
      "Data columns (total 12 columns):\n",
      " #   Column                                 Non-Null Count   Dtype              \n",
      "---  ------                                 --------------   -----              \n",
      " 0   index                                  470988 non-null  int64              \n",
      " 1   id                                     470988 non-null  int64              \n",
      " 2   created_at                             470988 non-null  datetime64[ns, UTC]\n",
      " 3   text                                   470988 non-null  object             \n",
      " 4   author.id                              470988 non-null  int64              \n",
      " 5   author.created_at                      470988 non-null  object             \n",
      " 6   author.username                        470988 non-null  object             \n",
      " 7   author.location                        369659 non-null  object             \n",
      " 8   author.public_metrics.followers_count  470988 non-null  int64              \n",
      " 9   geo.full_name                          25265 non-null   object             \n",
      " 10  public_metrics.like_count              470988 non-null  int64              \n",
      " 11  public_metrics.retweet_count           470988 non-null  int64              \n",
      "dtypes: datetime64[ns, UTC](1), int64(6), object(5)\n",
      "memory usage: 43.1+ MB\n"
     ]
    }
   ],
   "source": [
    "df.info()"
   ]
  },
  {
   "cell_type": "code",
   "execution_count": 12,
   "metadata": {},
   "outputs": [
    {
     "data": {
      "text/html": [
       "<div>\n",
       "<style scoped>\n",
       "    .dataframe tbody tr th:only-of-type {\n",
       "        vertical-align: middle;\n",
       "    }\n",
       "\n",
       "    .dataframe tbody tr th {\n",
       "        vertical-align: top;\n",
       "    }\n",
       "\n",
       "    .dataframe thead th {\n",
       "        text-align: right;\n",
       "    }\n",
       "</style>\n",
       "<table border=\"1\" class=\"dataframe\">\n",
       "  <thead>\n",
       "    <tr style=\"text-align: right;\">\n",
       "      <th></th>\n",
       "      <th>index</th>\n",
       "      <th>id</th>\n",
       "      <th>created_at</th>\n",
       "      <th>text</th>\n",
       "      <th>author.id</th>\n",
       "      <th>author.created_at</th>\n",
       "      <th>author.username</th>\n",
       "      <th>author.location</th>\n",
       "      <th>author.public_metrics.followers_count</th>\n",
       "      <th>geo.full_name</th>\n",
       "      <th>public_metrics.like_count</th>\n",
       "      <th>public_metrics.retweet_count</th>\n",
       "      <th>sentiment</th>\n",
       "    </tr>\n",
       "  </thead>\n",
       "  <tbody>\n",
       "    <tr>\n",
       "      <th>0</th>\n",
       "      <td>4</td>\n",
       "      <td>1090399145951723521</td>\n",
       "      <td>2019-01-29 23:59:49+00:00</td>\n",
       "      <td>I should be asleep but about two hours ago I d...</td>\n",
       "      <td>750768965778112514</td>\n",
       "      <td>2016-07-06T19:10:44.000Z</td>\n",
       "      <td>crittermischief</td>\n",
       "      <td>Amaurot</td>\n",
       "      <td>133</td>\n",
       "      <td>NaN</td>\n",
       "      <td>0</td>\n",
       "      <td>0</td>\n",
       "      <td>-0.6652</td>\n",
       "    </tr>\n",
       "    <tr>\n",
       "      <th>1</th>\n",
       "      <td>7</td>\n",
       "      <td>1090399137583906816</td>\n",
       "      <td>2019-01-29 23:59:47+00:00</td>\n",
       "      <td>My specialty is vegan tacos xD lol</td>\n",
       "      <td>887264682179821569</td>\n",
       "      <td>2017-07-18T10:55:59.000Z</td>\n",
       "      <td>ohhitskittyface</td>\n",
       "      <td>NaN</td>\n",
       "      <td>139</td>\n",
       "      <td>NaN</td>\n",
       "      <td>0</td>\n",
       "      <td>0</td>\n",
       "      <td>0.7650</td>\n",
       "    </tr>\n",
       "    <tr>\n",
       "      <th>2</th>\n",
       "      <td>8</td>\n",
       "      <td>1090399127949721601</td>\n",
       "      <td>2019-01-29 23:59:45+00:00</td>\n",
       "      <td>@BriMalandro @emoblackthot “Plant based pussy ...</td>\n",
       "      <td>894316419785121792</td>\n",
       "      <td>2017-08-06T21:57:04.000Z</td>\n",
       "      <td>0hdatme</td>\n",
       "      <td>NaN</td>\n",
       "      <td>164</td>\n",
       "      <td>NaN</td>\n",
       "      <td>0</td>\n",
       "      <td>0</td>\n",
       "      <td>0.0000</td>\n",
       "    </tr>\n",
       "    <tr>\n",
       "      <th>3</th>\n",
       "      <td>14</td>\n",
       "      <td>1090399054570442754</td>\n",
       "      <td>2019-01-29 23:59:27+00:00</td>\n",
       "      <td>\"Vegan Make-Ahead Chia Oats\" #food #eat #healt...</td>\n",
       "      <td>1586307386</td>\n",
       "      <td>2013-07-11T16:52:01.000Z</td>\n",
       "      <td>FoodieNewsie</td>\n",
       "      <td>NaN</td>\n",
       "      <td>1339</td>\n",
       "      <td>NaN</td>\n",
       "      <td>0</td>\n",
       "      <td>0</td>\n",
       "      <td>0.0000</td>\n",
       "    </tr>\n",
       "    <tr>\n",
       "      <th>4</th>\n",
       "      <td>19</td>\n",
       "      <td>1090399000031883264</td>\n",
       "      <td>2019-01-29 23:59:14+00:00</td>\n",
       "      <td>#theveganfoodie 🏋🏽‍♀️🏋🏽‍♀️ 15 x 4 @ The Vegan ...</td>\n",
       "      <td>31351113</td>\n",
       "      <td>2009-04-15T05:41:56.000Z</td>\n",
       "      <td>TheVeganFoode</td>\n",
       "      <td>United States</td>\n",
       "      <td>2214</td>\n",
       "      <td>New Tecumseth, Ontario</td>\n",
       "      <td>0</td>\n",
       "      <td>0</td>\n",
       "      <td>0.0000</td>\n",
       "    </tr>\n",
       "  </tbody>\n",
       "</table>\n",
       "</div>"
      ],
      "text/plain": [
       "   index                   id                created_at  \\\n",
       "0      4  1090399145951723521 2019-01-29 23:59:49+00:00   \n",
       "1      7  1090399137583906816 2019-01-29 23:59:47+00:00   \n",
       "2      8  1090399127949721601 2019-01-29 23:59:45+00:00   \n",
       "3     14  1090399054570442754 2019-01-29 23:59:27+00:00   \n",
       "4     19  1090399000031883264 2019-01-29 23:59:14+00:00   \n",
       "\n",
       "                                                text           author.id  \\\n",
       "0  I should be asleep but about two hours ago I d...  750768965778112514   \n",
       "1                 My specialty is vegan tacos xD lol  887264682179821569   \n",
       "2  @BriMalandro @emoblackthot “Plant based pussy ...  894316419785121792   \n",
       "3  \"Vegan Make-Ahead Chia Oats\" #food #eat #healt...          1586307386   \n",
       "4  #theveganfoodie 🏋🏽‍♀️🏋🏽‍♀️ 15 x 4 @ The Vegan ...            31351113   \n",
       "\n",
       "          author.created_at  author.username author.location  \\\n",
       "0  2016-07-06T19:10:44.000Z  crittermischief         Amaurot   \n",
       "1  2017-07-18T10:55:59.000Z  ohhitskittyface             NaN   \n",
       "2  2017-08-06T21:57:04.000Z          0hdatme             NaN   \n",
       "3  2013-07-11T16:52:01.000Z     FoodieNewsie             NaN   \n",
       "4  2009-04-15T05:41:56.000Z    TheVeganFoode   United States   \n",
       "\n",
       "   author.public_metrics.followers_count           geo.full_name  \\\n",
       "0                                    133                     NaN   \n",
       "1                                    139                     NaN   \n",
       "2                                    164                     NaN   \n",
       "3                                   1339                     NaN   \n",
       "4                                   2214  New Tecumseth, Ontario   \n",
       "\n",
       "   public_metrics.like_count  public_metrics.retweet_count  sentiment  \n",
       "0                          0                             0    -0.6652  \n",
       "1                          0                             0     0.7650  \n",
       "2                          0                             0     0.0000  \n",
       "3                          0                             0     0.0000  \n",
       "4                          0                             0     0.0000  "
      ]
     },
     "execution_count": 12,
     "metadata": {},
     "output_type": "execute_result"
    }
   ],
   "source": [
    "df['sentiment'] = df['text'].apply(get_sentiment)\n",
    "df.head()"
   ]
  },
  {
   "cell_type": "code",
   "execution_count": 1,
   "metadata": {},
   "outputs": [
    {
     "ename": "NameError",
     "evalue": "name 'df' is not defined",
     "output_type": "error",
     "traceback": [
      "\u001b[0;31m---------------------------------------------------------------------------\u001b[0m",
      "\u001b[0;31mNameError\u001b[0m                                 Traceback (most recent call last)",
      "\u001b[0;32m<ipython-input-1-72efd6294668>\u001b[0m in \u001b[0;36m<module>\u001b[0;34m\u001b[0m\n\u001b[0;32m----> 1\u001b[0;31m \u001b[0mdf\u001b[0m\u001b[0;34m.\u001b[0m\u001b[0msentiment\u001b[0m\u001b[0;34m.\u001b[0m\u001b[0mplot\u001b[0m\u001b[0;34m(\u001b[0m\u001b[0mkind\u001b[0m\u001b[0;34m=\u001b[0m\u001b[0;34m'hist'\u001b[0m\u001b[0;34m,\u001b[0m\u001b[0mbins\u001b[0m\u001b[0;34m=\u001b[0m\u001b[0;36m8\u001b[0m\u001b[0;34m)\u001b[0m\u001b[0;34m\u001b[0m\u001b[0;34m\u001b[0m\u001b[0m\n\u001b[0m",
      "\u001b[0;31mNameError\u001b[0m: name 'df' is not defined"
     ]
    }
   ],
   "source": [
    "df.sentiment.plot(kind='hist',bins=8)"
   ]
  },
  {
   "cell_type": "code",
   "execution_count": 17,
   "metadata": {},
   "outputs": [
    {
     "data": {
      "text/plain": [
       "<AxesSubplot:>"
      ]
     },
     "execution_count": 17,
     "metadata": {},
     "output_type": "execute_result"
    },
    {
     "data": {
      "image/png": "[encoded data removed]",
      "text/plain": [
       "<Figure size 432x288 with 1 Axes>"
      ]
     },
     "metadata": {
      "needs_background": "light"
     },
     "output_type": "display_data"
    }
   ],
   "source": [
    "df['sentiment'].rolling(10000).mean().plot()"
   ]
  },
  {
   "cell_type": "code",
   "execution_count": 15,
   "metadata": {},
   "outputs": [],
   "source": [
    "# output data\n",
    "df.to_csv('PrestonJan2019Tidy.csv', index=False)"
   ]
  },
  {
   "cell_type": "code",
   "execution_count": 5,
   "metadata": {},
   "outputs": [
    {
     "data": {
      "text/html": [
       "<div>\n",
       "<style scoped>\n",
       "    .dataframe tbody tr th:only-of-type {\n",
       "        vertical-align: middle;\n",
       "    }\n",
       "\n",
       "    .dataframe tbody tr th {\n",
       "        vertical-align: top;\n",
       "    }\n",
       "\n",
       "    .dataframe thead th {\n",
       "        text-align: right;\n",
       "    }\n",
       "</style>\n",
       "<table border=\"1\" class=\"dataframe\">\n",
       "  <thead>\n",
       "    <tr style=\"text-align: right;\">\n",
       "      <th></th>\n",
       "      <th>index</th>\n",
       "      <th>id</th>\n",
       "      <th>created_at</th>\n",
       "      <th>text</th>\n",
       "      <th>author.id</th>\n",
       "      <th>author.created_at</th>\n",
       "      <th>author.username</th>\n",
       "      <th>author.location</th>\n",
       "      <th>author.public_metrics.followers_count</th>\n",
       "      <th>geo.full_name</th>\n",
       "      <th>public_metrics.like_count</th>\n",
       "      <th>public_metrics.retweet_count</th>\n",
       "      <th>sentiment</th>\n",
       "    </tr>\n",
       "  </thead>\n",
       "  <tbody>\n",
       "    <tr>\n",
       "      <th>0</th>\n",
       "      <td>4</td>\n",
       "      <td>1090399145951723521</td>\n",
       "      <td>2019-01-29 23:59:49+00:00</td>\n",
       "      <td>I should be asleep but about two hours ago I d...</td>\n",
       "      <td>750768965778112514</td>\n",
       "      <td>2016-07-06T19:10:44.000Z</td>\n",
       "      <td>crittermischief</td>\n",
       "      <td>Amaurot</td>\n",
       "      <td>133</td>\n",
       "      <td>NaN</td>\n",
       "      <td>0</td>\n",
       "      <td>0</td>\n",
       "      <td>-0.6652</td>\n",
       "    </tr>\n",
       "    <tr>\n",
       "      <th>1</th>\n",
       "      <td>7</td>\n",
       "      <td>1090399137583906816</td>\n",
       "      <td>2019-01-29 23:59:47+00:00</td>\n",
       "      <td>My specialty is vegan tacos xD lol</td>\n",
       "      <td>887264682179821569</td>\n",
       "      <td>2017-07-18T10:55:59.000Z</td>\n",
       "      <td>ohhitskittyface</td>\n",
       "      <td>NaN</td>\n",
       "      <td>139</td>\n",
       "      <td>NaN</td>\n",
       "      <td>0</td>\n",
       "      <td>0</td>\n",
       "      <td>0.7650</td>\n",
       "    </tr>\n",
       "    <tr>\n",
       "      <th>2</th>\n",
       "      <td>8</td>\n",
       "      <td>1090399127949721601</td>\n",
       "      <td>2019-01-29 23:59:45+00:00</td>\n",
       "      <td>@BriMalandro @emoblackthot “Plant based pussy ...</td>\n",
       "      <td>894316419785121792</td>\n",
       "      <td>2017-08-06T21:57:04.000Z</td>\n",
       "      <td>0hdatme</td>\n",
       "      <td>NaN</td>\n",
       "      <td>164</td>\n",
       "      <td>NaN</td>\n",
       "      <td>0</td>\n",
       "      <td>0</td>\n",
       "      <td>0.0000</td>\n",
       "    </tr>\n",
       "    <tr>\n",
       "      <th>3</th>\n",
       "      <td>14</td>\n",
       "      <td>1090399054570442754</td>\n",
       "      <td>2019-01-29 23:59:27+00:00</td>\n",
       "      <td>\"Vegan Make-Ahead Chia Oats\" #food #eat #healt...</td>\n",
       "      <td>1586307386</td>\n",
       "      <td>2013-07-11T16:52:01.000Z</td>\n",
       "      <td>FoodieNewsie</td>\n",
       "      <td>NaN</td>\n",
       "      <td>1339</td>\n",
       "      <td>NaN</td>\n",
       "      <td>0</td>\n",
       "      <td>0</td>\n",
       "      <td>0.0000</td>\n",
       "    </tr>\n",
       "    <tr>\n",
       "      <th>4</th>\n",
       "      <td>19</td>\n",
       "      <td>1090399000031883264</td>\n",
       "      <td>2019-01-29 23:59:14+00:00</td>\n",
       "      <td>#theveganfoodie 🏋🏽‍♀️🏋🏽‍♀️ 15 x 4 @ The Vegan ...</td>\n",
       "      <td>31351113</td>\n",
       "      <td>2009-04-15T05:41:56.000Z</td>\n",
       "      <td>TheVeganFoode</td>\n",
       "      <td>United States</td>\n",
       "      <td>2214</td>\n",
       "      <td>New Tecumseth, Ontario</td>\n",
       "      <td>0</td>\n",
       "      <td>0</td>\n",
       "      <td>0.0000</td>\n",
       "    </tr>\n",
       "  </tbody>\n",
       "</table>\n",
       "</div>"
      ],
      "text/plain": [
       "   index                   id                 created_at  \\\n",
       "0      4  1090399145951723521  2019-01-29 23:59:49+00:00   \n",
       "1      7  1090399137583906816  2019-01-29 23:59:47+00:00   \n",
       "2      8  1090399127949721601  2019-01-29 23:59:45+00:00   \n",
       "3     14  1090399054570442754  2019-01-29 23:59:27+00:00   \n",
       "4     19  1090399000031883264  2019-01-29 23:59:14+00:00   \n",
       "\n",
       "                                                text           author.id  \\\n",
       "0  I should be asleep but about two hours ago I d...  750768965778112514   \n",
       "1                 My specialty is vegan tacos xD lol  887264682179821569   \n",
       "2  @BriMalandro @emoblackthot “Plant based pussy ...  894316419785121792   \n",
       "3  \"Vegan Make-Ahead Chia Oats\" #food #eat #healt...          1586307386   \n",
       "4  #theveganfoodie 🏋🏽‍♀️🏋🏽‍♀️ 15 x 4 @ The Vegan ...            31351113   \n",
       "\n",
       "          author.created_at  author.username author.location  \\\n",
       "0  2016-07-06T19:10:44.000Z  crittermischief         Amaurot   \n",
       "1  2017-07-18T10:55:59.000Z  ohhitskittyface             NaN   \n",
       "2  2017-08-06T21:57:04.000Z          0hdatme             NaN   \n",
       "3  2013-07-11T16:52:01.000Z     FoodieNewsie             NaN   \n",
       "4  2009-04-15T05:41:56.000Z    TheVeganFoode   United States   \n",
       "\n",
       "   author.public_metrics.followers_count           geo.full_name  \\\n",
       "0                                    133                     NaN   \n",
       "1                                    139                     NaN   \n",
       "2                                    164                     NaN   \n",
       "3                                   1339                     NaN   \n",
       "4                                   2214  New Tecumseth, Ontario   \n",
       "\n",
       "   public_metrics.like_count  public_metrics.retweet_count  sentiment  \n",
       "0                          0                             0    -0.6652  \n",
       "1                          0                             0     0.7650  \n",
       "2                          0                             0     0.0000  \n",
       "3                          0                             0     0.0000  \n",
       "4                          0                             0     0.0000  "
      ]
     },
     "execution_count": 5,
     "metadata": {},
     "output_type": "execute_result"
    }
   ],
   "source": [
    "import pandas as pd\n",
    "df = pd.read_csv('PrestonJan2019Tidy.csv')\n",
    "df.head()"
   ]
  },
  {
   "cell_type": "code",
   "execution_count": 35,
   "metadata": {},
   "outputs": [],
   "source": [
    "london = df[(df['author.location'].str.contains('london', na=False)) | df['author.location'].str.contains('London', na=False)]"
   ]
  },
  {
   "cell_type": "code",
   "execution_count": 36,
   "metadata": {},
   "outputs": [],
   "source": [
    "manchester = df[(df['author.location'].str.contains('manchester', na=False)) | df['author.location'].str.contains('Manchester', na=False)]"
   ]
  },
  {
   "cell_type": "code",
   "execution_count": 37,
   "metadata": {},
   "outputs": [],
   "source": [
    "preston = df[(df['author.location'].str.contains('preston', na=False)) | df['author.location'].str.contains('Preston', na=False)]"
   ]
  },
  {
   "cell_type": "code",
   "execution_count": 57,
   "metadata": {},
   "outputs": [
    {
     "data": {
      "text/plain": [
       "<AxesSubplot:>"
      ]
     },
     "execution_count": 57,
     "metadata": {},
     "output_type": "execute_result"
    },
    {
     "data": {
      "image/png": "[encoded data removed]",
      "text/plain": [
       "<Figure size 432x288 with 1 Axes>"
      ]
     },
     "metadata": {
      "needs_background": "light"
     },
     "output_type": "display_data"
    }
   ],
   "source": [
    "london['sentiment'].sample(n=300).hist(bins=8)\n",
    "manchester['sentiment'].sample(n=300).hist(bins=8,alpha=0.5)\n",
    "preston['sentiment'].hist(bins=8,alpha=0.5)"
   ]
  },
  {
   "cell_type": "code",
   "execution_count": 50,
   "metadata": {},
   "outputs": [
    {
     "data": {
      "text/plain": [
       "<AxesSubplot:>"
      ]
     },
     "execution_count": 50,
     "metadata": {},
     "output_type": "execute_result"
    },
    {
     "data": {
      "image/png": "[encoded data removed]",
      "text/plain": [
       "<Figure size 432x288 with 1 Axes>"
      ]
     },
     "metadata": {
      "needs_background": "light"
     },
     "output_type": "display_data"
    }
   ],
   "source": [
    "manchester['sentiment'].hist(bins=8)"
   ]
  },
  {
   "cell_type": "code",
   "execution_count": 52,
   "metadata": {},
   "outputs": [
    {
     "data": {
      "text/plain": [
       "<AxesSubplot:>"
      ]
     },
     "execution_count": 52,
     "metadata": {},
     "output_type": "execute_result"
    },
    {
     "data": {
      "image/png": "[encoded data removed]",
      "text/plain": [
       "<Figure size 432x288 with 1 Axes>"
      ]
     },
     "metadata": {
      "needs_background": "light"
     },
     "output_type": "display_data"
    }
   ],
   "source": [
    "preston['sentiment'].hist(bins=8)"
   ]
  },
  {
   "cell_type": "code",
   "execution_count": 49,
   "metadata": {},
   "outputs": [
    {
     "data": {
      "text/plain": [
       "<AxesSubplot:>"
      ]
     },
     "execution_count": 49,
     "metadata": {},
     "output_type": "execute_result"
    },
    {
     "data": {
      "image/png": "[encoded data removed]",
      "text/plain": [
       "<Figure size 432x288 with 1 Axes>"
      ]
     },
     "metadata": {
      "needs_background": "light"
     },
     "output_type": "display_data"
    }
   ],
   "source": [
    "london['sentiment'].rolling(1000).mean().plot()\n",
    "manchester['sentiment'].rolling(500).mean().plot()\n",
    "preston['sentiment'].rolling(100).mean().plot()"
   ]
  },
  {
   "cell_type": "code",
   "execution_count": 58,
   "metadata": {},
   "outputs": [],
   "source": [
    "london.to_csv('LondonJan2019.csv', index=False)\n",
    "manchester.to_csv('ManchesterJan2019.csv', index=False)\n",
    "preston.to_csv('PrestonJan2019.csv', index=False)"
   ]
  }
 ],
 "metadata": {
  "kernelspec": {
   "display_name": "Python 3",
   "language": "python",
   "name": "python3"
  },
  "language_info": {
   "codemirror_mode": {
    "name": "ipython",
    "version": 3
   },
   "file_extension": ".py",
   "mimetype": "text/x-python",
   "name": "python",
   "nbconvert_exporter": "python",
   "pygments_lexer": "ipython3",
   "version": "3.8.5"
  }
 },
 "nbformat": 4,
 "nbformat_minor": 4
}
