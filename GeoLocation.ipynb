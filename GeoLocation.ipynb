{
 "cells": [
  {
   "cell_type": "markdown",
   "metadata": {},
   "source": [
    "In exploration of this data there are two definitions of location, one is the actual devices geolocation as a lat/lon, the other is Twitters notion of \"place\" which seems to encompass the user definition of where they are among other things.\n",
    "\n",
    "We have searched for the locations:\n",
    "* London\n",
    "* Manchester\n",
    "* Preston\n",
    "\n",
    "with the geolocation search we have\n",
    "* London - 1486\n",
    "* Manchester - 407\n",
    "* Preston - 42\n",
    "\n",
    "with the place search we have\n",
    "* London - 2904\n",
    "* Manchester - 401\n",
    "* Preston - 29"
   ]
  },
  {
   "cell_type": "code",
   "execution_count": 162,
   "metadata": {},
   "outputs": [],
   "source": [
    "import pandas as pd"
   ]
  },
  {
   "cell_type": "code",
   "execution_count": 163,
   "metadata": {},
   "outputs": [],
   "source": [
    "londonRadius = pd.read_csv('FromGeoSearch/prestonGeoPointRadius.csv')\n",
    "londonPlace = pd.read_csv('FromGeoSearch/prestonGeoPlace.csv')"
   ]
  },
  {
   "cell_type": "code",
   "execution_count": 164,
   "metadata": {},
   "outputs": [],
   "source": [
    "df = pd.concat([londonRadius,londonPlace])\n",
    "df = df.reset_index()"
   ]
  },
  {
   "cell_type": "code",
   "execution_count": 165,
   "metadata": {},
   "outputs": [
    {
     "data": {
      "text/plain": [
       "0     \"Vegan chocolate\" in #Preston #UnitedKingdom h...\n",
       "1     #bowl food #party #21st #21stbirthday #glam #m...\n",
       "2     #naturli #Veganuary2019 #Vegan #veganism #Vega...\n",
       "3     Amazing vegan burgers from Aldi. Highly recomm...\n",
       "4     @ChrisGPackham @CostaCoffee @eat_news @Delice_...\n",
       "                            ...                        \n",
       "66    @PeteOtway @GreggsOfficial \\nHurry up into wor...\n",
       "67    @icod Sorry Fab-Cod, wasn't trivialising mog's...\n",
       "68    Piers Morgan losing his shit over Greggs relea...\n",
       "69    2019 is going to be my best year EVER @GreggsO...\n",
       "70    Looking for healthy options for a fresh start ...\n",
       "Name: text, Length: 71, dtype: object"
      ]
     },
     "execution_count": 165,
     "metadata": {},
     "output_type": "execute_result"
    }
   ],
   "source": [
    "df['text']"
   ]
  },
  {
   "cell_type": "code",
   "execution_count": 166,
   "metadata": {},
   "outputs": [
    {
     "data": {
      "text/plain": [
       "46"
      ]
     },
     "execution_count": 166,
     "metadata": {},
     "output_type": "execute_result"
    }
   ],
   "source": [
    "# check for duplicates\n",
    "df['text'].duplicated().any()\n",
    "\n",
    "# remove duplicated rows\n",
    "df = df[~df['text'].duplicated()]\n",
    "len(df)"
   ]
  },
  {
   "cell_type": "code",
   "execution_count": 167,
   "metadata": {},
   "outputs": [],
   "source": [
    "# remove tagged types\n",
    "df = df[df['type'].isnull()]"
   ]
  },
  {
   "cell_type": "code",
   "execution_count": 168,
   "metadata": {},
   "outputs": [
    {
     "data": {
      "text/html": [
       "<div>\n",
       "<style scoped>\n",
       "    .dataframe tbody tr th:only-of-type {\n",
       "        vertical-align: middle;\n",
       "    }\n",
       "\n",
       "    .dataframe tbody tr th {\n",
       "        vertical-align: top;\n",
       "    }\n",
       "\n",
       "    .dataframe thead th {\n",
       "        text-align: right;\n",
       "    }\n",
       "</style>\n",
       "<table border=\"1\" class=\"dataframe\">\n",
       "  <thead>\n",
       "    <tr style=\"text-align: right;\">\n",
       "      <th></th>\n",
       "      <th>id</th>\n",
       "      <th>created_at</th>\n",
       "      <th>text</th>\n",
       "      <th>author.id</th>\n",
       "      <th>author.created_at</th>\n",
       "      <th>author.username</th>\n",
       "      <th>author.location</th>\n",
       "      <th>author.public_metrics.followers_count</th>\n",
       "      <th>geo.full_name</th>\n",
       "      <th>public_metrics.like_count</th>\n",
       "      <th>public_metrics.retweet_count</th>\n",
       "    </tr>\n",
       "  </thead>\n",
       "  <tbody>\n",
       "    <tr>\n",
       "      <th>0</th>\n",
       "      <td>1089577616707895296</td>\n",
       "      <td>2019-01-27T17:35:21.000Z</td>\n",
       "      <td>\"Vegan chocolate\" in #Preston #UnitedKingdom h...</td>\n",
       "      <td>824637752574488576</td>\n",
       "      <td>2017-01-26T15:18:56.000Z</td>\n",
       "      <td>WhatsOnOLIO</td>\n",
       "      <td>NaN</td>\n",
       "      <td>1091</td>\n",
       "      <td>Preston, England</td>\n",
       "      <td>0</td>\n",
       "      <td>0</td>\n",
       "    </tr>\n",
       "    <tr>\n",
       "      <th>1</th>\n",
       "      <td>1089316328438083584</td>\n",
       "      <td>2019-01-27T00:17:05.000Z</td>\n",
       "      <td>#bowl food #party #21st #21stbirthday #glam #m...</td>\n",
       "      <td>1393032373</td>\n",
       "      <td>2013-04-30T20:43:27.000Z</td>\n",
       "      <td>highclassfood</td>\n",
       "      <td>North West, England</td>\n",
       "      <td>114</td>\n",
       "      <td>Preston, England</td>\n",
       "      <td>2</td>\n",
       "      <td>0</td>\n",
       "    </tr>\n",
       "    <tr>\n",
       "      <th>2</th>\n",
       "      <td>1088877546740039681</td>\n",
       "      <td>2019-01-25T19:13:32.000Z</td>\n",
       "      <td>#naturli #Veganuary2019 #Vegan #veganism #Vega...</td>\n",
       "      <td>928718304646230016</td>\n",
       "      <td>2017-11-09T20:17:53.000Z</td>\n",
       "      <td>quigley_kirsty</td>\n",
       "      <td>Preston, England</td>\n",
       "      <td>3536</td>\n",
       "      <td>Preston, England</td>\n",
       "      <td>2</td>\n",
       "      <td>0</td>\n",
       "    </tr>\n",
       "    <tr>\n",
       "      <th>3</th>\n",
       "      <td>1088514098529292289</td>\n",
       "      <td>2019-01-24T19:09:19.000Z</td>\n",
       "      <td>Amazing vegan burgers from Aldi. Highly recomm...</td>\n",
       "      <td>135987218</td>\n",
       "      <td>2010-04-22T18:39:07.000Z</td>\n",
       "      <td>stainless2010</td>\n",
       "      <td>Preston, UK</td>\n",
       "      <td>351</td>\n",
       "      <td>Preston, England</td>\n",
       "      <td>1</td>\n",
       "      <td>0</td>\n",
       "    </tr>\n",
       "    <tr>\n",
       "      <th>5</th>\n",
       "      <td>1085597925961596929</td>\n",
       "      <td>2019-01-16T18:01:29.000Z</td>\n",
       "      <td>@marksandspencer @ChrisGPackham @CostaCoffee @...</td>\n",
       "      <td>293354078</td>\n",
       "      <td>2011-05-05T06:13:53.000Z</td>\n",
       "      <td>piedwarbler1</td>\n",
       "      <td>NW England</td>\n",
       "      <td>935</td>\n",
       "      <td>Leyland, England</td>\n",
       "      <td>0</td>\n",
       "      <td>0</td>\n",
       "    </tr>\n",
       "  </tbody>\n",
       "</table>\n",
       "</div>"
      ],
      "text/plain": [
       "                    id                created_at  \\\n",
       "0  1089577616707895296  2019-01-27T17:35:21.000Z   \n",
       "1  1089316328438083584  2019-01-27T00:17:05.000Z   \n",
       "2  1088877546740039681  2019-01-25T19:13:32.000Z   \n",
       "3  1088514098529292289  2019-01-24T19:09:19.000Z   \n",
       "5  1085597925961596929  2019-01-16T18:01:29.000Z   \n",
       "\n",
       "                                                text           author.id  \\\n",
       "0  \"Vegan chocolate\" in #Preston #UnitedKingdom h...  824637752574488576   \n",
       "1  #bowl food #party #21st #21stbirthday #glam #m...          1393032373   \n",
       "2  #naturli #Veganuary2019 #Vegan #veganism #Vega...  928718304646230016   \n",
       "3  Amazing vegan burgers from Aldi. Highly recomm...           135987218   \n",
       "5  @marksandspencer @ChrisGPackham @CostaCoffee @...           293354078   \n",
       "\n",
       "          author.created_at author.username      author.location  \\\n",
       "0  2017-01-26T15:18:56.000Z     WhatsOnOLIO                  NaN   \n",
       "1  2013-04-30T20:43:27.000Z   highclassfood  North West, England   \n",
       "2  2017-11-09T20:17:53.000Z  quigley_kirsty     Preston, England   \n",
       "3  2010-04-22T18:39:07.000Z   stainless2010          Preston, UK   \n",
       "5  2011-05-05T06:13:53.000Z    piedwarbler1          NW England    \n",
       "\n",
       "   author.public_metrics.followers_count     geo.full_name  \\\n",
       "0                                   1091  Preston, England   \n",
       "1                                    114  Preston, England   \n",
       "2                                   3536  Preston, England   \n",
       "3                                    351  Preston, England   \n",
       "5                                    935  Leyland, England   \n",
       "\n",
       "   public_metrics.like_count  public_metrics.retweet_count  \n",
       "0                          0                             0  \n",
       "1                          2                             0  \n",
       "2                          2                             0  \n",
       "3                          1                             0  \n",
       "5                          0                             0  "
      ]
     },
     "execution_count": 168,
     "metadata": {},
     "output_type": "execute_result"
    }
   ],
   "source": [
    "# reduce to only columns for our resaerch\n",
    "df = df[['id','created_at', 'text','author.id','author.created_at', 'author.username','author.location','author.public_metrics.followers_count','geo.full_name','public_metrics.like_count','public_metrics.retweet_count']]\n",
    "df.head()"
   ]
  },
  {
   "cell_type": "code",
   "execution_count": 169,
   "metadata": {},
   "outputs": [],
   "source": [
    "# sort by date\n",
    "df['created_at'] =pd.to_datetime(df.created_at)\n",
    "df.sort_values(by='created_at')\n",
    "df = df.reset_index()"
   ]
  },
  {
   "cell_type": "code",
   "execution_count": 170,
   "metadata": {},
   "outputs": [
    {
     "name": "stderr",
     "output_type": "stream",
     "text": [
      "[nltk_data] Downloading package vader_lexicon to\n",
      "[nltk_data]     /Users/joe/nltk_data...\n",
      "[nltk_data]   Package vader_lexicon is already up-to-date!\n"
     ]
    }
   ],
   "source": [
    "# sentiment analysis\n",
    "import nltk\n",
    "nltk.download([\n",
    "    \"vader_lexicon\",\n",
    "])\n",
    "from nltk.sentiment import SentimentIntensityAnalyzer\n",
    "sia = SentimentIntensityAnalyzer()\n",
    "\n",
    "def get_sentiment(string):\n",
    "    return sia.polarity_scores(string)['compound']"
   ]
  },
  {
   "cell_type": "code",
   "execution_count": 171,
   "metadata": {},
   "outputs": [
    {
     "data": {
      "text/html": [
       "<div>\n",
       "<style scoped>\n",
       "    .dataframe tbody tr th:only-of-type {\n",
       "        vertical-align: middle;\n",
       "    }\n",
       "\n",
       "    .dataframe tbody tr th {\n",
       "        vertical-align: top;\n",
       "    }\n",
       "\n",
       "    .dataframe thead th {\n",
       "        text-align: right;\n",
       "    }\n",
       "</style>\n",
       "<table border=\"1\" class=\"dataframe\">\n",
       "  <thead>\n",
       "    <tr style=\"text-align: right;\">\n",
       "      <th></th>\n",
       "      <th>index</th>\n",
       "      <th>id</th>\n",
       "      <th>created_at</th>\n",
       "      <th>text</th>\n",
       "      <th>author.id</th>\n",
       "      <th>author.created_at</th>\n",
       "      <th>author.username</th>\n",
       "      <th>author.location</th>\n",
       "      <th>author.public_metrics.followers_count</th>\n",
       "      <th>geo.full_name</th>\n",
       "      <th>public_metrics.like_count</th>\n",
       "      <th>public_metrics.retweet_count</th>\n",
       "      <th>sentiment</th>\n",
       "    </tr>\n",
       "  </thead>\n",
       "  <tbody>\n",
       "    <tr>\n",
       "      <th>0</th>\n",
       "      <td>0</td>\n",
       "      <td>1089577616707895296</td>\n",
       "      <td>2019-01-27 17:35:21+00:00</td>\n",
       "      <td>\"Vegan chocolate\" in #Preston #UnitedKingdom h...</td>\n",
       "      <td>824637752574488576</td>\n",
       "      <td>2017-01-26T15:18:56.000Z</td>\n",
       "      <td>WhatsOnOLIO</td>\n",
       "      <td>NaN</td>\n",
       "      <td>1091</td>\n",
       "      <td>Preston, England</td>\n",
       "      <td>0</td>\n",
       "      <td>0</td>\n",
       "      <td>0.0000</td>\n",
       "    </tr>\n",
       "    <tr>\n",
       "      <th>1</th>\n",
       "      <td>1</td>\n",
       "      <td>1089316328438083584</td>\n",
       "      <td>2019-01-27 00:17:05+00:00</td>\n",
       "      <td>#bowl food #party #21st #21stbirthday #glam #m...</td>\n",
       "      <td>1393032373</td>\n",
       "      <td>2013-04-30T20:43:27.000Z</td>\n",
       "      <td>highclassfood</td>\n",
       "      <td>North West, England</td>\n",
       "      <td>114</td>\n",
       "      <td>Preston, England</td>\n",
       "      <td>2</td>\n",
       "      <td>0</td>\n",
       "      <td>0.0000</td>\n",
       "    </tr>\n",
       "    <tr>\n",
       "      <th>2</th>\n",
       "      <td>2</td>\n",
       "      <td>1088877546740039681</td>\n",
       "      <td>2019-01-25 19:13:32+00:00</td>\n",
       "      <td>#naturli #Veganuary2019 #Vegan #veganism #Vega...</td>\n",
       "      <td>928718304646230016</td>\n",
       "      <td>2017-11-09T20:17:53.000Z</td>\n",
       "      <td>quigley_kirsty</td>\n",
       "      <td>Preston, England</td>\n",
       "      <td>3536</td>\n",
       "      <td>Preston, England</td>\n",
       "      <td>2</td>\n",
       "      <td>0</td>\n",
       "      <td>0.0000</td>\n",
       "    </tr>\n",
       "    <tr>\n",
       "      <th>3</th>\n",
       "      <td>3</td>\n",
       "      <td>1088514098529292289</td>\n",
       "      <td>2019-01-24 19:09:19+00:00</td>\n",
       "      <td>Amazing vegan burgers from Aldi. Highly recomm...</td>\n",
       "      <td>135987218</td>\n",
       "      <td>2010-04-22T18:39:07.000Z</td>\n",
       "      <td>stainless2010</td>\n",
       "      <td>Preston, UK</td>\n",
       "      <td>351</td>\n",
       "      <td>Preston, England</td>\n",
       "      <td>1</td>\n",
       "      <td>0</td>\n",
       "      <td>0.7836</td>\n",
       "    </tr>\n",
       "    <tr>\n",
       "      <th>4</th>\n",
       "      <td>5</td>\n",
       "      <td>1085597925961596929</td>\n",
       "      <td>2019-01-16 18:01:29+00:00</td>\n",
       "      <td>@marksandspencer @ChrisGPackham @CostaCoffee @...</td>\n",
       "      <td>293354078</td>\n",
       "      <td>2011-05-05T06:13:53.000Z</td>\n",
       "      <td>piedwarbler1</td>\n",
       "      <td>NW England</td>\n",
       "      <td>935</td>\n",
       "      <td>Leyland, England</td>\n",
       "      <td>0</td>\n",
       "      <td>0</td>\n",
       "      <td>0.0000</td>\n",
       "    </tr>\n",
       "  </tbody>\n",
       "</table>\n",
       "</div>"
      ],
      "text/plain": [
       "   index                   id                created_at  \\\n",
       "0      0  1089577616707895296 2019-01-27 17:35:21+00:00   \n",
       "1      1  1089316328438083584 2019-01-27 00:17:05+00:00   \n",
       "2      2  1088877546740039681 2019-01-25 19:13:32+00:00   \n",
       "3      3  1088514098529292289 2019-01-24 19:09:19+00:00   \n",
       "4      5  1085597925961596929 2019-01-16 18:01:29+00:00   \n",
       "\n",
       "                                                text           author.id  \\\n",
       "0  \"Vegan chocolate\" in #Preston #UnitedKingdom h...  824637752574488576   \n",
       "1  #bowl food #party #21st #21stbirthday #glam #m...          1393032373   \n",
       "2  #naturli #Veganuary2019 #Vegan #veganism #Vega...  928718304646230016   \n",
       "3  Amazing vegan burgers from Aldi. Highly recomm...           135987218   \n",
       "4  @marksandspencer @ChrisGPackham @CostaCoffee @...           293354078   \n",
       "\n",
       "          author.created_at author.username      author.location  \\\n",
       "0  2017-01-26T15:18:56.000Z     WhatsOnOLIO                  NaN   \n",
       "1  2013-04-30T20:43:27.000Z   highclassfood  North West, England   \n",
       "2  2017-11-09T20:17:53.000Z  quigley_kirsty     Preston, England   \n",
       "3  2010-04-22T18:39:07.000Z   stainless2010          Preston, UK   \n",
       "4  2011-05-05T06:13:53.000Z    piedwarbler1          NW England    \n",
       "\n",
       "   author.public_metrics.followers_count     geo.full_name  \\\n",
       "0                                   1091  Preston, England   \n",
       "1                                    114  Preston, England   \n",
       "2                                   3536  Preston, England   \n",
       "3                                    351  Preston, England   \n",
       "4                                    935  Leyland, England   \n",
       "\n",
       "   public_metrics.like_count  public_metrics.retweet_count  sentiment  \n",
       "0                          0                             0     0.0000  \n",
       "1                          2                             0     0.0000  \n",
       "2                          2                             0     0.0000  \n",
       "3                          1                             0     0.7836  \n",
       "4                          0                             0     0.0000  "
      ]
     },
     "execution_count": 171,
     "metadata": {},
     "output_type": "execute_result"
    }
   ],
   "source": [
    "df['sentiment'] = df['text'].apply(get_sentiment)\n",
    "df.head()"
   ]
  },
  {
   "cell_type": "code",
   "execution_count": 172,
   "metadata": {},
   "outputs": [
    {
     "data": {
      "text/plain": [
       "<AxesSubplot:ylabel='Frequency'>"
      ]
     },
     "execution_count": 172,
     "metadata": {},
     "output_type": "execute_result"
    },
    {
     "data": {
      "image/png": "[encoded data removed]",
      "text/plain": [
       "<Figure size 432x288 with 1 Axes>"
      ]
     },
     "metadata": {
      "needs_background": "light"
     },
     "output_type": "display_data"
    }
   ],
   "source": [
    "df.sentiment.plot(kind='hist',bins=8)"
   ]
  },
  {
   "cell_type": "code",
   "execution_count": 175,
   "metadata": {},
   "outputs": [
    {
     "data": {
      "text/plain": [
       "<AxesSubplot:>"
      ]
     },
     "execution_count": 175,
     "metadata": {},
     "output_type": "execute_result"
    },
    {
     "data": {
      "image/png": "[encoded data removed]",
      "text/plain": [
       "<Figure size 432x288 with 1 Axes>"
      ]
     },
     "metadata": {
      "needs_background": "light"
     },
     "output_type": "display_data"
    }
   ],
   "source": [
    "df['sentiment'].rolling(10).mean().plot()"
   ]
  },
  {
   "cell_type": "code",
   "execution_count": 174,
   "metadata": {},
   "outputs": [],
   "source": [
    "# output data\n",
    "df.to_csv('PrestonGeoMerged.csv', index=False)"
   ]
  }
 ],
 "metadata": {
  "kernelspec": {
   "display_name": "Python 3",
   "language": "python",
   "name": "python3"
  },
  "language_info": {
   "codemirror_mode": {
    "name": "ipython",
    "version": 3
   },
   "file_extension": ".py",
   "mimetype": "text/x-python",
   "name": "python",
   "nbconvert_exporter": "python",
   "pygments_lexer": "ipython3",
   "version": "3.8.5"
  }
 },
 "nbformat": 4,
 "nbformat_minor": 4
}
